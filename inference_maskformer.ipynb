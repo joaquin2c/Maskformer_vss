{
 "cells": [
  {
   "cell_type": "code",
   "execution_count": 2,
   "id": "35ad0577-3206-4b37-9d68-6942777f7df9",
   "metadata": {},
   "outputs": [
    {
     "name": "stderr",
     "output_type": "stream",
     "text": [
      "/home/jcurimil/.conda_envs/mask3/lib/python3.9/site-packages/timm/models/layers/__init__.py:48: FutureWarning: Importing from timm.models.layers is deprecated, please import via timm.layers\n",
      "  warnings.warn(f\"Importing from {__name__} is deprecated, please import via timm.layers\", FutureWarning)\n",
      "/home/jcurimil/.conda_envs/mask3/lib/python3.9/site-packages/albumentations/__init__.py:24: UserWarning: A new version of Albumentations is available: '2.0.7' (you have '2.0.0'). Upgrade using: pip install -U albumentations. To disable automatic update checks, set the environment variable NO_ALBUMENTATIONS_UPDATE to 1.\n",
      "  check_for_updates()\n"
     ]
    }
   ],
   "source": [
    "import copy\n",
    "import itertools\n",
    "import logging\n",
    "import os\n",
    "from collections import OrderedDict\n",
    "from typing import Any, Dict, List, Set\n",
    "\n",
    "import torch\n",
    "\n",
    "import detectron2.utils.comm as comm\n",
    "from detectron2.checkpoint import DetectionCheckpointer\n",
    "from detectron2.config import get_cfg\n",
    "from detectron2.data import MetadataCatalog, build_detection_train_loader, build_detection_test_loader\n",
    "from detectron2.engine import DefaultTrainer, default_argument_parser, default_setup, launch\n",
    "from detectron2.evaluation import (\n",
    "    CityscapesInstanceEvaluator,\n",
    "    CityscapesSemSegEvaluator,\n",
    "    COCOEvaluator,\n",
    "    COCOPanopticEvaluator,\n",
    "    DatasetEvaluators,\n",
    "    SemSegEvaluator,\n",
    "    verify_results,\n",
    ")\n",
    "from tqdm import tqdm\n",
    "import cv2\n",
    "from detectron2.projects.deeplab import add_deeplab_config, build_lr_scheduler\n",
    "from detectron2.solver.build import maybe_add_gradient_clipping\n",
    "from detectron2.utils.logger import setup_logger\n",
    "\n",
    "from detectron2.data import MetadataCatalog, DatasetCatalog\n",
    "# MaskFormer\n",
    "from mask_former import (\n",
    "    DETRPanopticDatasetMapper,\n",
    "    MaskFormerPanopticDatasetMapper,\n",
    "    MaskFormerSemanticDatasetMapperVSS,\n",
    "    SemanticSegmentorWithTTA,\n",
    "    add_mask_former_config\n",
    ")\n",
    "import numpy as np\n",
    "from detectron2.modeling import build_model\n",
    "import albumentations as A\n",
    "from albumentations.core.composition import Compose, OneOf"
   ]
  },
  {
   "cell_type": "code",
   "execution_count": 3,
   "id": "1d9e944e-24ad-41b1-97a2-8553438bd522",
   "metadata": {},
   "outputs": [
    {
     "name": "stderr",
     "output_type": "stream",
     "text": [
      "Loading config configs/ade20k-150/swin/maskformer_swin_base_IN21k_384_bs16_160k_res640.yaml with yaml.unsafe_load. Your machine may be at risk if the file contains malicious content.\n",
      "Loading config configs/ade20k-150/swin/../Base-ADE20K-150.yaml with yaml.unsafe_load. Your machine may be at risk if the file contains malicious content.\n"
     ]
    }
   ],
   "source": [
    "cfg = get_cfg()\n",
    "# for poly lr schedule\n",
    "add_deeplab_config(cfg)\n",
    "add_mask_former_config(cfg)\n",
    "cfg.merge_from_file(\"configs/ade20k-150/swin/maskformer_swin_base_IN21k_384_bs16_160k_res640.yaml\")"
   ]
  },
  {
   "cell_type": "code",
   "execution_count": 20,
   "id": "2f6894ca-c528-4654-9a81-1b0b429cd571",
   "metadata": {},
   "outputs": [
    {
     "name": "stdout",
     "output_type": "stream",
     "text": [
      "CRLM-CT-1164_61.npy\n"
     ]
    }
   ],
   "source": [
    "path_img=\"../../../../shared_data/Liver_Vessel_Segmentation/colorectal/data_corrected_2d/images_lv_2d\"\n",
    "path_msk=\"../../../../shared_data/Liver_Vessel_Segmentation/colorectal/data_corrected_2d/masks_vs_2d\"\n",
    "image_names=os.listdir(path_img)\n",
    "print(image_names[0])"
   ]
  },
  {
   "cell_type": "code",
   "execution_count": 4,
   "id": "690a8410-d700-441f-b98c-f3138890cadd",
   "metadata": {},
   "outputs": [],
   "source": [
    "import time\n",
    "from detectron2.data import detection_utils as utils\n",
    "\n",
    "def get_pred(model,img,msk):\n",
    "    MEAN=[0.485,0.456,0.406]\n",
    "    STD=[0.229,0.224,0.225]\n",
    "    \n",
    "    image = img.astype(np.float32)\n",
    "    img_min, img_max = -360, 440\n",
    "    image = np.clip(image, img_min, img_max)\n",
    "    image = (image - img_min) / (img_max - img_min)\n",
    "    sem_seg_gt = msk.astype(\"double\")\n",
    "    \n",
    "    if image.ndim == 2:\n",
    "        image = image[..., None]\n",
    "        image=image.repeat(3,axis=-1)\n",
    "    \n",
    "    transform = Compose([\n",
    "        A.Resize(512,512),\n",
    "    ])\n",
    "    \n",
    "    image=((image)-MEAN)/STD\n",
    "    \n",
    "    augmented = transform(image=image, mask=sem_seg_gt)\n",
    "    image_test = augmented['image']\n",
    "    sem_seg_gt = augmented['mask']\n",
    "    \n",
    "    sem_seg_gt[sem_seg_gt>0]=1\n",
    "    image_test = image_test.transpose(2, 0, 1).astype(np.float32) \n",
    "    \n",
    "    \n",
    "    image_test = torch.tensor(image_test)\n",
    "    dataset_dict={}\n",
    "    dataset_dict[\"image\"] = image_test\n",
    "    with torch.no_grad():\n",
    "        prediction=model([dataset_dict])[0]['sem_seg'].argmax(dim=0)\n",
    "    prediction=prediction.detach().cpu().numpy()\n",
    "    return prediction, sem_seg_gt"
   ]
  },
  {
   "cell_type": "code",
   "execution_count": 5,
   "id": "7b563ffa-3582-4ee9-8251-4437da6fbf76",
   "metadata": {},
   "outputs": [],
   "source": [
    "import pandas as pd\n",
    "def create_dict(image_names):\n",
    "    dict_info={\"name\":[],\"number\":[],\"slice\":[]}\n",
    "    for i in image_names:\n",
    "        info=str(i.split(\"-\")[-1])\n",
    "        numbers=info.split(\"_\")\n",
    "        patient=numbers[0]\n",
    "        slide=numbers[1].split(\".\")[0]\n",
    "        dict_info[\"number\"].append(patient)\n",
    "        dict_info[\"slice\"].append(slide.zfill(4))\n",
    "        dict_info[\"name\"].append(i)\n",
    "    dataframe=pd.DataFrame(dict_info)\n",
    "    dataframe=dataframe.sort_values(by=[\"number\",\"slice\"])\n",
    "    return dataframe"
   ]
  },
  {
   "cell_type": "code",
   "execution_count": 9,
   "id": "0279da41-1634-48a7-9438-46cff6fafe13",
   "metadata": {},
   "outputs": [],
   "source": [
    "def get_scores(model,number,dataframe,path_img,path_msk):\n",
    "    masks_patient=[]\n",
    "    preds_patient=[]\n",
    "    \n",
    "    patient_imgs_slices=dataframe[dataframe[\"number\"]==number][\"name\"]\n",
    "    for patient_slice in patient_imgs_slices:\n",
    "        name_img=os.path.join(path_img,patient_slice)\n",
    "        name_msk=os.path.join(path_msk,patient_slice)\n",
    "        img=np.load(name_img)\n",
    "        msk=np.load(name_msk)\n",
    "        prediction, sem_seg_gt=get_pred(model,img,msk)\n",
    "        masks_patient.append(sem_seg_gt)\n",
    "        preds_patient.append(prediction)\n",
    "    cl_score_patient=cl_score(np.array(preds_patient), np.array(masks_patient))\n",
    "    clDice_patient=clDice(np.array(preds_patient), np.array(masks_patient))\n",
    "    binary_dc_patient=binary_dc(np.array(preds_patient), np.array(masks_patient))\n",
    "    return cl_score_patient,clDice_patient,binary_dc_patient"
   ]
  },
  {
   "cell_type": "code",
   "execution_count": 10,
   "id": "b8a0b1d9-29a7-47f5-a9c7-af61f0cff842",
   "metadata": {},
   "outputs": [],
   "source": [
    "from skimage.morphology import skeletonize\n",
    "\n",
    "def cl_score(v, s):\n",
    "    \"\"\"[this function computes the skeleton volume overlap]\n",
    "\n",
    "    Args:\n",
    "        v ([bool]): [image]\n",
    "        s ([bool]): [skeleton]\n",
    "\n",
    "    Returns:\n",
    "        [float]: [computed skeleton volume intersection]\n",
    "    \"\"\"\n",
    "    cl = np.sum(v*s)/np.sum(s+1e-12)\n",
    "    return cl\n",
    "\n",
    "\n",
    "def clDice(v_p, v_l):\n",
    "    \"\"\"[this function computes the cldice metric]\n",
    "\n",
    "    Args:\n",
    "        v_p ([bool]): [predicted image]\n",
    "        v_l ([bool]): [ground truth image]\n",
    "\n",
    "    Returns:\n",
    "        [float]: [cldice metric]\n",
    "    \"\"\"\n",
    "    tprec = cl_score(v_p,skeletonize(v_l))\n",
    "    tsens = cl_score(v_l,skeletonize(v_p))\n",
    "    cl_dice = 2*tprec*tsens/(tprec+tsens+1e-12)\n",
    "    return cl_dice\n",
    "\n",
    "def binary_dc(result, reference):\n",
    "    r\"\"\"\n",
    "    Dice coefficient\n",
    "\n",
    "    Computes the Dice coefficient (also known as Sorensen index) between the binary\n",
    "    objects in two images.\n",
    "\n",
    "    The metric is defined as\n",
    "\n",
    "    .. math::\n",
    "\n",
    "        DC=\\frac{2|A\\cap B|}{|A|+|B|}\n",
    "\n",
    "    , where :math:A is the first and :math:B the second set of samples (here: binary objects).\n",
    "\n",
    "    Parameters\n",
    "    ----------\n",
    "    result : array_like\n",
    "        Input data containing objects. Can be any type but will be converted\n",
    "        into binary: background where 0, object everywhere else.\n",
    "    reference : array_like\n",
    "        Input data containing objects. Can be any type but will be converted\n",
    "        into binary: background where 0, object everywhere else.\n",
    "\n",
    "    Returns\n",
    "    -------\n",
    "    dc : float\n",
    "        The Dice coefficient between the object(s) in \n",
    "result\n",
    " and the\n",
    "        object(s) in \n",
    "reference\n",
    ". It ranges from 0 (no overlap) to 1 (perfect overlap).\n",
    "\n",
    "    Notes\n",
    "    -----\n",
    "    This is a real metric. The binary images can therefore be supplied in any order.\n",
    "    \"\"\"\n",
    "    result = np.atleast_1d(result.astype(bool))\n",
    "    reference = np.atleast_1d(reference.astype(bool))\n",
    "\n",
    "    intersection = np.count_nonzero(result & reference)\n",
    "\n",
    "    size_i1 = np.count_nonzero(result)\n",
    "    size_i2 = np.count_nonzero(reference)\n",
    "\n",
    "    try:\n",
    "        dc = 2. * intersection / float(size_i1 + size_i2)\n",
    "    except ZeroDivisionError:\n",
    "        dc = 0.0\n",
    "\n",
    "    return dc"
   ]
  },
  {
   "cell_type": "markdown",
   "id": "2235230f-6707-4589-a96d-e1418252d39b",
   "metadata": {},
   "source": [
    "# COLORECTAL"
   ]
  },
  {
   "cell_type": "code",
   "execution_count": null,
   "id": "77d47a1e-6c19-4449-99d4-0aea0def98db",
   "metadata": {
    "scrolled": true
   },
   "outputs": [
    {
     "name": "stderr",
     "output_type": "stream",
     "text": [
      "/home/jcurimil/.conda_envs/mask3/lib/python3.9/site-packages/detectron2/structures/image_list.py:88: UserWarning: __floordiv__ is deprecated, and its behavior will change in a future version of pytorch. It currently rounds toward 0 (like the 'trunc' function NOT 'floor'). This results in incorrect rounding for negative values. To keep the current behavior, use torch.div(a, b, rounding_mode='trunc'), or for actual floor division, use torch.div(a, b, rounding_mode='floor').\n",
      "  max_size = (max_size + (stride - 1)) // stride * stride\n",
      "/home/jcurimil/vssSeg/Code/MaskFormer/mask_former/modeling/transformer/position_encoding.py:41: UserWarning: __floordiv__ is deprecated, and its behavior will change in a future version of pytorch. It currently rounds toward 0 (like the 'trunc' function NOT 'floor'). This results in incorrect rounding for negative values. To keep the current behavior, use torch.div(a, b, rounding_mode='trunc'), or for actual floor division, use torch.div(a, b, rounding_mode='floor').\n",
      "  dim_t = self.temperature ** (2 * (dim_t // 2) / self.num_pos_feats)\n"
     ]
    },
    {
     "name": "stdout",
     "output_type": "stream",
     "text": [
      "(125, 512, 512) (125, 512, 512)\n",
      "(75, 512, 512) (75, 512, 512)\n",
      "(38, 512, 512) (38, 512, 512)\n",
      "(32, 512, 512) (32, 512, 512)\n",
      "(99, 512, 512) (99, 512, 512)\n",
      "(30, 512, 512) (30, 512, 512)\n",
      "(28, 512, 512) (28, 512, 512)\n",
      "(110, 512, 512) (110, 512, 512)\n",
      "(114, 512, 512) (114, 512, 512)\n",
      "(32, 512, 512) (32, 512, 512)\n",
      "(115, 512, 512) (115, 512, 512)\n",
      "(84, 512, 512) (84, 512, 512)\n",
      "(31, 512, 512) (31, 512, 512)\n",
      "(40, 512, 512) (40, 512, 512)\n",
      "(71, 512, 512) (71, 512, 512)\n",
      "(17, 512, 512) (17, 512, 512)\n",
      "(23, 512, 512) (23, 512, 512)\n",
      "(32, 512, 512) (32, 512, 512)\n",
      "(102, 512, 512) (102, 512, 512)\n",
      "(20, 512, 512) (20, 512, 512)\n",
      "(37, 512, 512) (37, 512, 512)\n",
      "(99, 512, 512) (99, 512, 512)\n",
      "(103, 512, 512) (103, 512, 512)\n",
      "(27, 512, 512) (27, 512, 512)\n",
      "(47, 512, 512) (47, 512, 512)\n",
      "(30, 512, 512) (30, 512, 512)\n",
      "(35, 512, 512) (35, 512, 512)\n",
      "(22, 512, 512) (22, 512, 512)\n",
      "(101, 512, 512) (101, 512, 512)\n",
      "(33, 512, 512) (33, 512, 512)\n",
      "(35, 512, 512) (35, 512, 512)\n",
      "(20, 512, 512) (20, 512, 512)\n",
      "(33, 512, 512) (33, 512, 512)\n",
      "(108, 512, 512) (108, 512, 512)\n",
      "(113, 512, 512) (113, 512, 512)\n",
      "(20, 512, 512) (20, 512, 512)\n",
      "(119, 512, 512) (119, 512, 512)\n",
      "(31, 512, 512) (31, 512, 512)\n",
      "(37, 512, 512) (37, 512, 512)\n",
      "(123, 512, 512) (123, 512, 512)\n",
      "(84, 512, 512) (84, 512, 512)\n",
      "(90, 512, 512) (90, 512, 512)\n",
      "(38, 512, 512) (38, 512, 512)\n",
      "(102, 512, 512) (102, 512, 512)\n",
      "(30, 512, 512) (30, 512, 512)\n",
      "(84, 512, 512) (84, 512, 512)\n",
      "(107, 512, 512) (107, 512, 512)\n",
      "(15, 512, 512) (15, 512, 512)\n",
      "(36, 512, 512) (36, 512, 512)\n"
     ]
    }
   ],
   "source": [
    "results={\"kfold\":[],\"model_path\":[],\"cl_score_train\":[],\"clDice_train\":[],\"binary_dc_train\":[],\"cl_score_val\":[],\"clDice_val\":[],\"binary_dc_val\":[]}\n",
    "model_paths=[\"model_0004999.pth\",\"model_0009999.pth\",\"model_0014999.pth\",\"model_0019999.pth\",\"model_0024999.pth\"]\n",
    "for i in range(1,6):\n",
    "    path_img_val=f\"../../Data/colorectal_fold/fold_{i}/val/images\"\n",
    "    path_msk_val=f\"../../Data/colorectal_fold/fold_{i}/val/masks\"\n",
    "    path_img_train=f\"../../Data/colorectal_fold/fold_{i}/train/images\"\n",
    "    path_msk_train=f\"../../Data/colorectal_fold/fold_{i}/train/masks\"\n",
    "    image_names_val=os.listdir(path_img_val)\n",
    "    image_names_train=os.listdir(path_img_train)\n",
    "    \n",
    "    dict_val=create_dict(image_names_val)\n",
    "    dict_train=create_dict(image_names_train)\n",
    "    \n",
    "    patients_train=np.unique(dict_train[\"number\"])\n",
    "    patients_val=np.unique(dict_val[\"number\"])\n",
    "\n",
    "    for model_path in model_paths:\n",
    "        model=build_model(cfg)\n",
    "        checkpoint=torch.load(f\"output_base_vss_fold_{i}/{model_path}\", map_location=\"cuda:0\")\n",
    "        model.load_state_dict(checkpoint[\"model\"])\n",
    "        model.eval()\n",
    "        cl_score_train=[]\n",
    "        clDice_patient_train=[]\n",
    "        binary_dc_patient_train=[]\n",
    "        for number_train in patients_train:\n",
    "            cl_score_patient,clDice_patient,binary_dc_patient=get_scores(model,number_train,dict_train,path_img_train,path_msk_train)\n",
    "            cl_score_train.append(cl_score_patient)\n",
    "            clDice_patient_train.append(clDice_patient)\n",
    "            binary_dc_patient_train.append(binary_dc_patient)\n",
    "\n",
    "        \n",
    "        cl_score_val=[]\n",
    "        clDice_patient_val=[]\n",
    "        binary_dc_patient_val=[]\n",
    "        for number_val in patients_val:\n",
    "            cl_score_patient,clDice_patient,binary_dc_patient=get_scores(model,number_val,dict_val,path_img_val,path_msk_val)\n",
    "            cl_score_val.append(cl_score_patient)\n",
    "            clDice_patient_val.append(clDice_patient)\n",
    "            binary_dc_patient_val.append(binary_dc_patient)\n",
    "\n",
    "        results[\"kfold\"].append(i)\n",
    "        results[\"model_path\"].append(model_path)\n",
    "        results[\"cl_score_train\"].append(np.mean(cl_score_train))\n",
    "        results[\"clDice_train\"].append(np.mean(clDice_patient_train))\n",
    "        results[\"binary_dc_train\"].append(np.mean(binary_dc_patient_train))\n",
    "        results[\"cl_score_val\"].append(np.mean(cl_score_val))\n",
    "        results[\"clDice_val\"].append(np.mean(clDice_patient_val))\n",
    "        results[\"binary_dc_val\"].append(np.mean(binary_dc_patient_val))\n",
    "        dataframe_final=pd.DataFrame(results)\n",
    "        dataframe_final.to_csv('results_colorectal.csv', index=False)  "
   ]
  },
  {
   "cell_type": "markdown",
   "id": "418a799b-b73c-41fd-8460-0b5452a149d1",
   "metadata": {},
   "source": [
    "# ircad"
   ]
  },
  {
   "cell_type": "code",
   "execution_count": 35,
   "id": "f93c65a1-5d70-4482-9b27-a69a88315288",
   "metadata": {},
   "outputs": [],
   "source": [
    "import pandas as pd\n",
    "def create_dict_ircad(image_names):\n",
    "    dict_info={\"name\":[],\"number\":[],\"slice\":[]}\n",
    "    for i in image_names:\n",
    "        numbers=i.split(\"_\")\n",
    "        patient=numbers[1]\n",
    "        slide=numbers[2].split(\".\")[0]\n",
    "        dict_info[\"number\"].append(patient)\n",
    "        dict_info[\"slice\"].append(slide.zfill(4))\n",
    "        dict_info[\"name\"].append(i)\n",
    "    dataframe=pd.DataFrame(dict_info)\n",
    "    dataframe=dataframe.sort_values(by=[\"number\",\"slice\"])\n",
    "    return dataframe"
   ]
  },
  {
   "cell_type": "code",
   "execution_count": 37,
   "id": "8d1903e7-fc1e-46d1-96a4-caebe74cbdef",
   "metadata": {
    "scrolled": true
   },
   "outputs": [
    {
     "name": "stderr",
     "output_type": "stream",
     "text": [
      "/home/jcurimil/.conda_envs/mask3/lib/python3.9/site-packages/detectron2/structures/image_list.py:88: UserWarning: __floordiv__ is deprecated, and its behavior will change in a future version of pytorch. It currently rounds toward 0 (like the 'trunc' function NOT 'floor'). This results in incorrect rounding for negative values. To keep the current behavior, use torch.div(a, b, rounding_mode='trunc'), or for actual floor division, use torch.div(a, b, rounding_mode='floor').\n",
      "  max_size = (max_size + (stride - 1)) // stride * stride\n",
      "/home/jcurimil/vssSeg/Code/MaskFormer/mask_former/modeling/transformer/position_encoding.py:41: UserWarning: __floordiv__ is deprecated, and its behavior will change in a future version of pytorch. It currently rounds toward 0 (like the 'trunc' function NOT 'floor'). This results in incorrect rounding for negative values. To keep the current behavior, use torch.div(a, b, rounding_mode='trunc'), or for actual floor division, use torch.div(a, b, rounding_mode='floor').\n",
      "  dim_t = self.temperature ** (2 * (dim_t // 2) / self.num_pos_feats)\n"
     ]
    },
    {
     "name": "stdout",
     "output_type": "stream",
     "text": [
      "(98, 512, 512) (98, 512, 512)\n",
      "(99, 512, 512) (99, 512, 512)\n",
      "(96, 512, 512) (96, 512, 512)\n",
      "(239, 512, 512) (239, 512, 512)\n",
      "(90, 512, 512) (90, 512, 512)\n",
      "(104, 512, 512) (104, 512, 512)\n",
      "(115, 512, 512) (115, 512, 512)\n",
      "(113, 512, 512) (113, 512, 512)\n",
      "(113, 512, 512) (113, 512, 512)\n",
      "(59, 512, 512) (59, 512, 512)\n",
      "(41, 512, 512) (41, 512, 512)\n",
      "(114, 512, 512) (114, 512, 512)\n",
      "(85, 512, 512) (85, 512, 512)\n",
      "(123, 512, 512) (123, 512, 512)\n",
      "(67, 512, 512) (67, 512, 512)\n",
      "(119, 512, 512) (119, 512, 512)\n",
      "(96, 512, 512) (96, 512, 512)\n",
      "(98, 512, 512) (98, 512, 512)\n",
      "(116, 512, 512) (116, 512, 512)\n",
      "(89, 512, 512) (89, 512, 512)\n",
      "(98, 512, 512) (98, 512, 512)\n",
      "(99, 512, 512) (99, 512, 512)\n",
      "(96, 512, 512) (96, 512, 512)\n",
      "(239, 512, 512) (239, 512, 512)\n",
      "(90, 512, 512) (90, 512, 512)\n",
      "(104, 512, 512) (104, 512, 512)\n",
      "(115, 512, 512) (115, 512, 512)\n",
      "(113, 512, 512) (113, 512, 512)\n",
      "(113, 512, 512) (113, 512, 512)\n",
      "(59, 512, 512) (59, 512, 512)\n",
      "(41, 512, 512) (41, 512, 512)\n",
      "(114, 512, 512) (114, 512, 512)\n",
      "(85, 512, 512) (85, 512, 512)\n",
      "(123, 512, 512) (123, 512, 512)\n",
      "(67, 512, 512) (67, 512, 512)\n",
      "(119, 512, 512) (119, 512, 512)\n",
      "(96, 512, 512) (96, 512, 512)\n",
      "(98, 512, 512) (98, 512, 512)\n",
      "(116, 512, 512) (116, 512, 512)\n",
      "(89, 512, 512) (89, 512, 512)\n",
      "(98, 512, 512) (98, 512, 512)\n",
      "(99, 512, 512) (99, 512, 512)\n",
      "(96, 512, 512) (96, 512, 512)\n",
      "(239, 512, 512) (239, 512, 512)\n",
      "(90, 512, 512) (90, 512, 512)\n",
      "(104, 512, 512) (104, 512, 512)\n",
      "(115, 512, 512) (115, 512, 512)\n",
      "(113, 512, 512) (113, 512, 512)\n",
      "(113, 512, 512) (113, 512, 512)\n",
      "(59, 512, 512) (59, 512, 512)\n",
      "(41, 512, 512) (41, 512, 512)\n",
      "(114, 512, 512) (114, 512, 512)\n",
      "(85, 512, 512) (85, 512, 512)\n",
      "(123, 512, 512) (123, 512, 512)\n",
      "(67, 512, 512) (67, 512, 512)\n",
      "(119, 512, 512) (119, 512, 512)\n",
      "(96, 512, 512) (96, 512, 512)\n",
      "(98, 512, 512) (98, 512, 512)\n",
      "(116, 512, 512) (116, 512, 512)\n",
      "(89, 512, 512) (89, 512, 512)\n",
      "(98, 512, 512) (98, 512, 512)\n",
      "(99, 512, 512) (99, 512, 512)\n",
      "(96, 512, 512) (96, 512, 512)\n",
      "(239, 512, 512) (239, 512, 512)\n",
      "(90, 512, 512) (90, 512, 512)\n",
      "(104, 512, 512) (104, 512, 512)\n",
      "(115, 512, 512) (115, 512, 512)\n",
      "(113, 512, 512) (113, 512, 512)\n",
      "(113, 512, 512) (113, 512, 512)\n",
      "(59, 512, 512) (59, 512, 512)\n",
      "(41, 512, 512) (41, 512, 512)\n",
      "(114, 512, 512) (114, 512, 512)\n",
      "(85, 512, 512) (85, 512, 512)\n",
      "(123, 512, 512) (123, 512, 512)\n",
      "(67, 512, 512) (67, 512, 512)\n",
      "(119, 512, 512) (119, 512, 512)\n",
      "(96, 512, 512) (96, 512, 512)\n",
      "(98, 512, 512) (98, 512, 512)\n",
      "(116, 512, 512) (116, 512, 512)\n",
      "(89, 512, 512) (89, 512, 512)\n",
      "(98, 512, 512) (98, 512, 512)\n",
      "(99, 512, 512) (99, 512, 512)\n",
      "(96, 512, 512) (96, 512, 512)\n",
      "(239, 512, 512) (239, 512, 512)\n",
      "(90, 512, 512) (90, 512, 512)\n",
      "(104, 512, 512) (104, 512, 512)\n",
      "(115, 512, 512) (115, 512, 512)\n",
      "(113, 512, 512) (113, 512, 512)\n",
      "(113, 512, 512) (113, 512, 512)\n",
      "(59, 512, 512) (59, 512, 512)\n",
      "(41, 512, 512) (41, 512, 512)\n",
      "(114, 512, 512) (114, 512, 512)\n",
      "(85, 512, 512) (85, 512, 512)\n",
      "(123, 512, 512) (123, 512, 512)\n",
      "(67, 512, 512) (67, 512, 512)\n",
      "(119, 512, 512) (119, 512, 512)\n",
      "(96, 512, 512) (96, 512, 512)\n",
      "(98, 512, 512) (98, 512, 512)\n",
      "(116, 512, 512) (116, 512, 512)\n",
      "(89, 512, 512) (89, 512, 512)\n"
     ]
    }
   ],
   "source": [
    "results={\"model_path\":[],\"cl_score_test\":[],\"clDice_test\":[],\"binary_dc_test\":[]}\n",
    "model_paths=[\"output_base_vss_fold_1/model_0024999.pth\",\"output_base_vss_fold_2/model_0019999.pth\",\"output_base_vss_fold_3/model_0009999.pth\"\n",
    "             ,\"output_base_vss_fold_4/model_0019999.pth\",\"output_base_vss_fold_5/model_0014999.pth\"]\n",
    "\n",
    "path_img_test=\"../../../../shared_data/Liver_Vessel_Segmentation/ircad/data_corrected_2d/images_lv_2d/\"\n",
    "path_msk_test=\"../../../../shared_data/Liver_Vessel_Segmentation/ircad/data_corrected_2d/masks_vs_2d/\"\n",
    "\n",
    "image_names_test=os.listdir(path_img_test)\n",
    "\n",
    "dict_test=create_dict_ircad(image_names_test)\n",
    "\n",
    "patients_test=np.unique(dict_test[\"number\"])\n",
    "\n",
    "for model_path in model_paths:\n",
    "    model=build_model(cfg)\n",
    "    checkpoint=torch.load(model_path, map_location=\"cuda:0\")\n",
    "    model.load_state_dict(checkpoint[\"model\"])\n",
    "    model.eval()\n",
    "    cl_score_test=[]\n",
    "    clDice_patient_test=[]\n",
    "    binary_dc_patient_test=[]\n",
    "    for number_test in patients_test:\n",
    "        cl_score_patient,clDice_patient,binary_dc_patient=get_scores(model,number_test,dict_test,path_img_test,path_msk_test)\n",
    "        cl_score_test.append(cl_score_patient)\n",
    "        clDice_patient_test.append(clDice_patient)\n",
    "        binary_dc_patient_test.append(binary_dc_patient)\n",
    "\n",
    "    results[\"model_path\"].append(model_path)\n",
    "    results[\"cl_score_test\"].append(np.mean(cl_score_test))\n",
    "    results[\"clDice_test\"].append(np.mean(clDice_patient_test))\n",
    "    results[\"binary_dc_test\"].append(np.mean(binary_dc_patient_test))\n",
    "    dataframe_final=pd.DataFrame(results)\n",
    "    dataframe_final.to_csv('results_ircad.csv', index=False)  "
   ]
  },
  {
   "cell_type": "markdown",
   "id": "664a1865-7d3a-4e49-9b46-a401db344691",
   "metadata": {},
   "source": [
    "# Decathlon"
   ]
  },
  {
   "cell_type": "code",
   "execution_count": null,
   "id": "f67cceef-2a23-4149-bc3d-bc99305552f4",
   "metadata": {},
   "outputs": [
    {
     "name": "stderr",
     "output_type": "stream",
     "text": [
      "/home/jcurimil/.conda_envs/mask3/lib/python3.9/site-packages/detectron2/structures/image_list.py:88: UserWarning: __floordiv__ is deprecated, and its behavior will change in a future version of pytorch. It currently rounds toward 0 (like the 'trunc' function NOT 'floor'). This results in incorrect rounding for negative values. To keep the current behavior, use torch.div(a, b, rounding_mode='trunc'), or for actual floor division, use torch.div(a, b, rounding_mode='floor').\n",
      "  max_size = (max_size + (stride - 1)) // stride * stride\n",
      "/home/jcurimil/vssSeg/Code/MaskFormer/mask_former/modeling/transformer/position_encoding.py:41: UserWarning: __floordiv__ is deprecated, and its behavior will change in a future version of pytorch. It currently rounds toward 0 (like the 'trunc' function NOT 'floor'). This results in incorrect rounding for negative values. To keep the current behavior, use torch.div(a, b, rounding_mode='trunc'), or for actual floor division, use torch.div(a, b, rounding_mode='floor').\n",
      "  dim_t = self.temperature ** (2 * (dim_t // 2) / self.num_pos_feats)\n"
     ]
    },
    {
     "name": "stdout",
     "output_type": "stream",
     "text": [
      "(37, 512, 512) (37, 512, 512)\n",
      "(48, 512, 512) (48, 512, 512)\n",
      "(29, 512, 512) (29, 512, 512)\n",
      "(25, 512, 512) (25, 512, 512)\n",
      "(42, 512, 512) (42, 512, 512)\n",
      "(38, 512, 512) (38, 512, 512)\n",
      "(38, 512, 512) (38, 512, 512)\n",
      "(27, 512, 512) (27, 512, 512)\n",
      "(34, 512, 512) (34, 512, 512)\n",
      "(29, 512, 512) (29, 512, 512)\n",
      "(30, 512, 512) (30, 512, 512)\n",
      "(29, 512, 512) (29, 512, 512)\n",
      "(33, 512, 512) (33, 512, 512)\n",
      "(30, 512, 512) (30, 512, 512)\n",
      "(41, 512, 512) (41, 512, 512)\n"
     ]
    }
   ],
   "source": [
    "results={\"model_path\":[],\"cl_score_test\":[],\"clDice_test\":[],\"binary_dc_test\":[]}\n",
    "model_paths=[\"output_base_vss_fold_1/model_0024999.pth\",\"output_base_vss_fold_2/model_0019999.pth\",\"output_base_vss_fold_3/model_0009999.pth\"\n",
    "             ,\"output_base_vss_fold_4/model_0019999.pth\",\"output_base_vss_fold_5/model_0014999.pth\"]\n",
    "\n",
    "path_img_test=\"../../../../shared_data/Liver_Vessel_Segmentation/decathlon/data_corrected_2d/images_lvin_wot_2d/\"\n",
    "path_msk_test=\"../../../../shared_data/Liver_Vessel_Segmentation/decathlon/data_corrected_2d/labels_vs_lv_in_2d/\"\n",
    "\n",
    "image_names_test=os.listdir(path_img_test)\n",
    "\n",
    "dict_test=create_dict_ircad(image_names_test)\n",
    "\n",
    "patients_test=np.unique(dict_test[\"number\"])\n",
    "\n",
    "for model_path in model_paths:\n",
    "    model=build_model(cfg)\n",
    "    checkpoint=torch.load(model_path, map_location=\"cuda:0\")\n",
    "    model.load_state_dict(checkpoint[\"model\"])\n",
    "    model.eval()\n",
    "    cl_score_test=[]\n",
    "    clDice_patient_test=[]\n",
    "    binary_dc_patient_test=[]\n",
    "    for number_test in patients_test:\n",
    "        cl_score_patient,clDice_patient,binary_dc_patient=get_scores(model,number_test,dict_test,path_img_test,path_msk_test)\n",
    "        cl_score_test.append(cl_score_patient)\n",
    "        clDice_patient_test.append(clDice_patient)\n",
    "        binary_dc_patient_test.append(binary_dc_patient)\n",
    "\n",
    "    results[\"model_path\"].append(model_path)\n",
    "    results[\"cl_score_test\"].append(np.mean(cl_score_test))\n",
    "    results[\"clDice_test\"].append(np.mean(clDice_patient_test))\n",
    "    results[\"binary_dc_test\"].append(np.mean(binary_dc_patient_test))\n",
    "    dataframe_final=pd.DataFrame(results)\n",
    "    dataframe_final.to_csv('results_decathlon.csv', index=False)  "
   ]
  },
  {
   "cell_type": "code",
   "execution_count": 42,
   "id": "fe8c80c9-0c35-4aa7-9c1c-27ee2e361977",
   "metadata": {},
   "outputs": [
    {
     "data": {
      "text/html": [
       "<div>\n",
       "<style scoped>\n",
       "    .dataframe tbody tr th:only-of-type {\n",
       "        vertical-align: middle;\n",
       "    }\n",
       "\n",
       "    .dataframe tbody tr th {\n",
       "        vertical-align: top;\n",
       "    }\n",
       "\n",
       "    .dataframe thead th {\n",
       "        text-align: right;\n",
       "    }\n",
       "</style>\n",
       "<table border=\"1\" class=\"dataframe\">\n",
       "  <thead>\n",
       "    <tr style=\"text-align: right;\">\n",
       "      <th></th>\n",
       "      <th>name</th>\n",
       "      <th>number</th>\n",
       "      <th>slice</th>\n",
       "    </tr>\n",
       "  </thead>\n",
       "  <tbody>\n",
       "    <tr>\n",
       "      <th>8839</th>\n",
       "      <td>hepaticvessel_001_0.npy</td>\n",
       "      <td>001</td>\n",
       "      <td>0000</td>\n",
       "    </tr>\n",
       "    <tr>\n",
       "      <th>8476</th>\n",
       "      <td>hepaticvessel_001_1.npy</td>\n",
       "      <td>001</td>\n",
       "      <td>0001</td>\n",
       "    </tr>\n",
       "    <tr>\n",
       "      <th>10282</th>\n",
       "      <td>hepaticvessel_001_2.npy</td>\n",
       "      <td>001</td>\n",
       "      <td>0002</td>\n",
       "    </tr>\n",
       "    <tr>\n",
       "      <th>4005</th>\n",
       "      <td>hepaticvessel_001_3.npy</td>\n",
       "      <td>001</td>\n",
       "      <td>0003</td>\n",
       "    </tr>\n",
       "    <tr>\n",
       "      <th>5256</th>\n",
       "      <td>hepaticvessel_001_4.npy</td>\n",
       "      <td>001</td>\n",
       "      <td>0004</td>\n",
       "    </tr>\n",
       "    <tr>\n",
       "      <th>...</th>\n",
       "      <td>...</td>\n",
       "      <td>...</td>\n",
       "      <td>...</td>\n",
       "    </tr>\n",
       "    <tr>\n",
       "      <th>7688</th>\n",
       "      <td>hepaticvessel_458_134.npy</td>\n",
       "      <td>458</td>\n",
       "      <td>0134</td>\n",
       "    </tr>\n",
       "    <tr>\n",
       "      <th>13345</th>\n",
       "      <td>hepaticvessel_458_135.npy</td>\n",
       "      <td>458</td>\n",
       "      <td>0135</td>\n",
       "    </tr>\n",
       "    <tr>\n",
       "      <th>9712</th>\n",
       "      <td>hepaticvessel_458_136.npy</td>\n",
       "      <td>458</td>\n",
       "      <td>0136</td>\n",
       "    </tr>\n",
       "    <tr>\n",
       "      <th>10252</th>\n",
       "      <td>hepaticvessel_458_137.npy</td>\n",
       "      <td>458</td>\n",
       "      <td>0137</td>\n",
       "    </tr>\n",
       "    <tr>\n",
       "      <th>1497</th>\n",
       "      <td>hepaticvessel_458_138.npy</td>\n",
       "      <td>458</td>\n",
       "      <td>0138</td>\n",
       "    </tr>\n",
       "  </tbody>\n",
       "</table>\n",
       "<p>15562 rows × 3 columns</p>\n",
       "</div>"
      ],
      "text/plain": [
       "                            name number slice\n",
       "8839     hepaticvessel_001_0.npy    001  0000\n",
       "8476     hepaticvessel_001_1.npy    001  0001\n",
       "10282    hepaticvessel_001_2.npy    001  0002\n",
       "4005     hepaticvessel_001_3.npy    001  0003\n",
       "5256     hepaticvessel_001_4.npy    001  0004\n",
       "...                          ...    ...   ...\n",
       "7688   hepaticvessel_458_134.npy    458  0134\n",
       "13345  hepaticvessel_458_135.npy    458  0135\n",
       "9712   hepaticvessel_458_136.npy    458  0136\n",
       "10252  hepaticvessel_458_137.npy    458  0137\n",
       "1497   hepaticvessel_458_138.npy    458  0138\n",
       "\n",
       "[15562 rows x 3 columns]"
      ]
     },
     "execution_count": 42,
     "metadata": {},
     "output_type": "execute_result"
    }
   ],
   "source": [
    "path_img_test=\"../../../../shared_data/Liver_Vessel_Segmentation/decathlon/data_corrected_2d/images_lvin_wot_2d/\"\n",
    "\n",
    "image_names_test=os.listdir(path_img_test)\n",
    "create_dict_ircad(image_names_test)"
   ]
  },
  {
   "cell_type": "code",
   "execution_count": 28,
   "id": "6e022b0f-a97a-4277-98fe-d9867f6acc0b",
   "metadata": {},
   "outputs": [
    {
     "data": {
      "text/plain": [
       "<matplotlib.image.AxesImage at 0x7fc56d681df0>"
      ]
     },
     "execution_count": 28,
     "metadata": {},
     "output_type": "execute_result"
    },
    {
     "data": {
      "image/png": "[encoded data removed]",
      "text/plain": [
       "<Figure size 640x480 with 1 Axes>"
      ]
     },
     "metadata": {},
     "output_type": "display_data"
    }
   ],
   "source": [
    "import matplotlib.pyplot as plt\n",
    "name_img=os.path.join(path_img,image_names[0])\n",
    "name_msk=os.path.join(path_msk,image_names[0])\n",
    "img=np.load(name_img)\n",
    "plt.imshow(img)"
   ]
  },
  {
   "cell_type": "code",
   "execution_count": 29,
   "id": "f814d6b8-f66f-4e7a-9fb0-48c1235f3074",
   "metadata": {},
   "outputs": [
    {
     "data": {
      "text/plain": [
       "<matplotlib.image.AxesImage at 0x7fc56d674700>"
      ]
     },
     "execution_count": 29,
     "metadata": {},
     "output_type": "execute_result"
    },
    {
     "data": {
      "image/png": "[encoded data removed]",
      "text/plain": [
       "<Figure size 640x480 with 1 Axes>"
      ]
     },
     "metadata": {},
     "output_type": "display_data"
    }
   ],
   "source": [
    "msk=np.load(name_msk)\n",
    "plt.imshow(msk)"
   ]
  },
  {
   "cell_type": "code",
   "execution_count": 40,
   "id": "6eba3f3b-09d2-4cd4-8ab7-e51e8bd4e69e",
   "metadata": {},
   "outputs": [
    {
     "data": {
      "text/plain": [
       "<matplotlib.image.AxesImage at 0x7fc4dd098970>"
      ]
     },
     "execution_count": 40,
     "metadata": {},
     "output_type": "execute_result"
    },
    {
     "data": {
      "image/png": "[encoded data removed]",
      "text/plain": [
       "<Figure size 640x480 with 1 Axes>"
      ]
     },
     "metadata": {},
     "output_type": "display_data"
    }
   ],
   "source": [
    "plt.imshow(sem_seg_gt)"
   ]
  },
  {
   "cell_type": "code",
   "execution_count": 38,
   "id": "09e7ca35-34c2-425e-86bb-780fe50da1da",
   "metadata": {},
   "outputs": [
    {
     "data": {
      "text/plain": [
       "<matplotlib.image.AxesImage at 0x7fc4dd1c7b50>"
      ]
     },
     "execution_count": 38,
     "metadata": {},
     "output_type": "execute_result"
    },
    {
     "data": {
      "image/png": "[encoded data removed]",
      "text/plain": [
       "<Figure size 640x480 with 1 Axes>"
      ]
     },
     "metadata": {},
     "output_type": "display_data"
    }
   ],
   "source": [
    "plt.imshow(prediction)"
   ]
  },
  {
   "cell_type": "code",
   "execution_count": 16,
   "id": "4a242686-9520-4cc0-90cd-051931c7092b",
   "metadata": {},
   "outputs": [],
   "source": [
    "results_colo=pd.read_csv(\"results_colorectal.csv\")"
   ]
  },
  {
   "cell_type": "code",
   "execution_count": 22,
   "id": "ae26996f-04fc-4cff-8123-0ddb9931e136",
   "metadata": {},
   "outputs": [
    {
     "data": {
      "text/html": [
       "<div>\n",
       "<style scoped>\n",
       "    .dataframe tbody tr th:only-of-type {\n",
       "        vertical-align: middle;\n",
       "    }\n",
       "\n",
       "    .dataframe tbody tr th {\n",
       "        vertical-align: top;\n",
       "    }\n",
       "\n",
       "    .dataframe thead th {\n",
       "        text-align: right;\n",
       "    }\n",
       "</style>\n",
       "<table border=\"1\" class=\"dataframe\">\n",
       "  <thead>\n",
       "    <tr style=\"text-align: right;\">\n",
       "      <th></th>\n",
       "      <th>kfold</th>\n",
       "      <th>model_path</th>\n",
       "      <th>cl_score_train</th>\n",
       "      <th>clDice_train</th>\n",
       "      <th>binary_dc_train</th>\n",
       "      <th>cl_score_val</th>\n",
       "      <th>clDice_val</th>\n",
       "      <th>binary_dc_val</th>\n",
       "    </tr>\n",
       "  </thead>\n",
       "  <tbody>\n",
       "    <tr>\n",
       "      <th>20</th>\n",
       "      <td>5</td>\n",
       "      <td>model_0004999.pth</td>\n",
       "      <td>0.737980</td>\n",
       "      <td>0.765768</td>\n",
       "      <td>0.746954</td>\n",
       "      <td>0.722420</td>\n",
       "      <td>0.761915</td>\n",
       "      <td>0.733903</td>\n",
       "    </tr>\n",
       "    <tr>\n",
       "      <th>21</th>\n",
       "      <td>5</td>\n",
       "      <td>model_0009999.pth</td>\n",
       "      <td>0.757085</td>\n",
       "      <td>0.797135</td>\n",
       "      <td>0.780830</td>\n",
       "      <td>0.711897</td>\n",
       "      <td>0.762985</td>\n",
       "      <td>0.730141</td>\n",
       "    </tr>\n",
       "    <tr>\n",
       "      <th>22</th>\n",
       "      <td>5</td>\n",
       "      <td>model_0014999.pth</td>\n",
       "      <td>0.820217</td>\n",
       "      <td>0.828023</td>\n",
       "      <td>0.814149</td>\n",
       "      <td>0.740064</td>\n",
       "      <td>0.764929</td>\n",
       "      <td>0.732510</td>\n",
       "    </tr>\n",
       "    <tr>\n",
       "      <th>23</th>\n",
       "      <td>5</td>\n",
       "      <td>model_0019999.pth</td>\n",
       "      <td>0.818801</td>\n",
       "      <td>0.841888</td>\n",
       "      <td>0.831005</td>\n",
       "      <td>0.717968</td>\n",
       "      <td>0.758572</td>\n",
       "      <td>0.729618</td>\n",
       "    </tr>\n",
       "    <tr>\n",
       "      <th>24</th>\n",
       "      <td>5</td>\n",
       "      <td>model_0024999.pth</td>\n",
       "      <td>0.842205</td>\n",
       "      <td>0.854411</td>\n",
       "      <td>0.841205</td>\n",
       "      <td>0.726220</td>\n",
       "      <td>0.761026</td>\n",
       "      <td>0.730040</td>\n",
       "    </tr>\n",
       "  </tbody>\n",
       "</table>\n",
       "</div>"
      ],
      "text/plain": [
       "    kfold         model_path  cl_score_train  clDice_train  binary_dc_train  \\\n",
       "20      5  model_0004999.pth        0.737980      0.765768         0.746954   \n",
       "21      5  model_0009999.pth        0.757085      0.797135         0.780830   \n",
       "22      5  model_0014999.pth        0.820217      0.828023         0.814149   \n",
       "23      5  model_0019999.pth        0.818801      0.841888         0.831005   \n",
       "24      5  model_0024999.pth        0.842205      0.854411         0.841205   \n",
       "\n",
       "    cl_score_val  clDice_val  binary_dc_val  \n",
       "20      0.722420    0.761915       0.733903  \n",
       "21      0.711897    0.762985       0.730141  \n",
       "22      0.740064    0.764929       0.732510  \n",
       "23      0.717968    0.758572       0.729618  \n",
       "24      0.726220    0.761026       0.730040  "
      ]
     },
     "execution_count": 22,
     "metadata": {},
     "output_type": "execute_result"
    }
   ],
   "source": [
    "results_colo[results_colo[\"kfold\"]==5]"
   ]
  },
  {
   "cell_type": "code",
   "execution_count": 32,
   "id": "250f36da-7076-47bc-ac75-6c6595ef833d",
   "metadata": {},
   "outputs": [
    {
     "name": "stdout",
     "output_type": "stream",
     "text": [
      "\u001b[0m\u001b[01;34mimages_lv_2d\u001b[0m/  \u001b[01;34mmasks_vs_2d\u001b[0m/\n"
     ]
    }
   ],
   "source": [
    "ls ../../../../shared_data/Liver_Vessel_Segmentation/ircad/data_corrected_2d"
   ]
  },
  {
   "cell_type": "code",
   "execution_count": null,
   "id": "43053f2d-5774-4257-b219-ae3482484768",
   "metadata": {},
   "outputs": [],
   "source": []
  }
 ],
 "metadata": {
  "kernelspec": {
   "display_name": "mask3",
   "language": "python",
   "name": "mask3"
  },
  "language_info": {
   "codemirror_mode": {
    "name": "ipython",
    "version": 3
   },
   "file_extension": ".py",
   "mimetype": "text/x-python",
   "name": "python",
   "nbconvert_exporter": "python",
   "pygments_lexer": "ipython3",
   "version": "3.9.21"
  }
 },
 "nbformat": 4,
 "nbformat_minor": 5
}
